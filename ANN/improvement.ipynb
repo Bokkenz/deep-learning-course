{
 "cells": [
  {
   "cell_type": "code",
   "execution_count": 1,
   "metadata": {},
   "outputs": [],
   "source": [
    "#Importing the libraries\n",
    "import numpy as np\n",
    "import matplotlib.pyplot as plt\n",
    "import pandas as pd"
   ]
  },
  {
   "cell_type": "code",
   "execution_count": 2,
   "metadata": {},
   "outputs": [],
   "source": [
    "#Importing the dataset\n",
    "dataset = pd.read_csv('Churn_Modelling.csv')"
   ]
  },
  {
   "cell_type": "code",
   "execution_count": 3,
   "metadata": {},
   "outputs": [
    {
     "name": "stdout",
     "output_type": "stream",
     "text": [
      "<class 'pandas.core.frame.DataFrame'>\n",
      "RangeIndex: 10000 entries, 0 to 9999\n",
      "Data columns (total 14 columns):\n",
      "RowNumber          10000 non-null int64\n",
      "CustomerId         10000 non-null int64\n",
      "Surname            10000 non-null object\n",
      "CreditScore        10000 non-null int64\n",
      "Geography          10000 non-null object\n",
      "Gender             10000 non-null object\n",
      "Age                10000 non-null int64\n",
      "Tenure             10000 non-null int64\n",
      "Balance            10000 non-null float64\n",
      "NumOfProducts      10000 non-null int64\n",
      "HasCrCard          10000 non-null int64\n",
      "IsActiveMember     10000 non-null int64\n",
      "EstimatedSalary    10000 non-null float64\n",
      "Exited             10000 non-null int64\n",
      "dtypes: float64(2), int64(9), object(3)\n",
      "memory usage: 1.1+ MB\n"
     ]
    }
   ],
   "source": [
    "# view the features\n",
    "dataset.info()"
   ]
  },
  {
   "cell_type": "code",
   "execution_count": 4,
   "metadata": {},
   "outputs": [
    {
     "data": {
      "text/html": [
       "<div>\n",
       "<style scoped>\n",
       "    .dataframe tbody tr th:only-of-type {\n",
       "        vertical-align: middle;\n",
       "    }\n",
       "\n",
       "    .dataframe tbody tr th {\n",
       "        vertical-align: top;\n",
       "    }\n",
       "\n",
       "    .dataframe thead th {\n",
       "        text-align: right;\n",
       "    }\n",
       "</style>\n",
       "<table border=\"1\" class=\"dataframe\">\n",
       "  <thead>\n",
       "    <tr style=\"text-align: right;\">\n",
       "      <th></th>\n",
       "      <th>RowNumber</th>\n",
       "      <th>CustomerId</th>\n",
       "      <th>Surname</th>\n",
       "      <th>CreditScore</th>\n",
       "      <th>Geography</th>\n",
       "      <th>Gender</th>\n",
       "      <th>Age</th>\n",
       "      <th>Tenure</th>\n",
       "      <th>Balance</th>\n",
       "      <th>NumOfProducts</th>\n",
       "      <th>HasCrCard</th>\n",
       "      <th>IsActiveMember</th>\n",
       "      <th>EstimatedSalary</th>\n",
       "      <th>Exited</th>\n",
       "    </tr>\n",
       "  </thead>\n",
       "  <tbody>\n",
       "    <tr>\n",
       "      <th>0</th>\n",
       "      <td>1</td>\n",
       "      <td>15634602</td>\n",
       "      <td>Hargrave</td>\n",
       "      <td>619</td>\n",
       "      <td>France</td>\n",
       "      <td>Female</td>\n",
       "      <td>42</td>\n",
       "      <td>2</td>\n",
       "      <td>0.00</td>\n",
       "      <td>1</td>\n",
       "      <td>1</td>\n",
       "      <td>1</td>\n",
       "      <td>101348.88</td>\n",
       "      <td>1</td>\n",
       "    </tr>\n",
       "    <tr>\n",
       "      <th>1</th>\n",
       "      <td>2</td>\n",
       "      <td>15647311</td>\n",
       "      <td>Hill</td>\n",
       "      <td>608</td>\n",
       "      <td>Spain</td>\n",
       "      <td>Female</td>\n",
       "      <td>41</td>\n",
       "      <td>1</td>\n",
       "      <td>83807.86</td>\n",
       "      <td>1</td>\n",
       "      <td>0</td>\n",
       "      <td>1</td>\n",
       "      <td>112542.58</td>\n",
       "      <td>0</td>\n",
       "    </tr>\n",
       "    <tr>\n",
       "      <th>2</th>\n",
       "      <td>3</td>\n",
       "      <td>15619304</td>\n",
       "      <td>Onio</td>\n",
       "      <td>502</td>\n",
       "      <td>France</td>\n",
       "      <td>Female</td>\n",
       "      <td>42</td>\n",
       "      <td>8</td>\n",
       "      <td>159660.80</td>\n",
       "      <td>3</td>\n",
       "      <td>1</td>\n",
       "      <td>0</td>\n",
       "      <td>113931.57</td>\n",
       "      <td>1</td>\n",
       "    </tr>\n",
       "    <tr>\n",
       "      <th>3</th>\n",
       "      <td>4</td>\n",
       "      <td>15701354</td>\n",
       "      <td>Boni</td>\n",
       "      <td>699</td>\n",
       "      <td>France</td>\n",
       "      <td>Female</td>\n",
       "      <td>39</td>\n",
       "      <td>1</td>\n",
       "      <td>0.00</td>\n",
       "      <td>2</td>\n",
       "      <td>0</td>\n",
       "      <td>0</td>\n",
       "      <td>93826.63</td>\n",
       "      <td>0</td>\n",
       "    </tr>\n",
       "    <tr>\n",
       "      <th>4</th>\n",
       "      <td>5</td>\n",
       "      <td>15737888</td>\n",
       "      <td>Mitchell</td>\n",
       "      <td>850</td>\n",
       "      <td>Spain</td>\n",
       "      <td>Female</td>\n",
       "      <td>43</td>\n",
       "      <td>2</td>\n",
       "      <td>125510.82</td>\n",
       "      <td>1</td>\n",
       "      <td>1</td>\n",
       "      <td>1</td>\n",
       "      <td>79084.10</td>\n",
       "      <td>0</td>\n",
       "    </tr>\n",
       "  </tbody>\n",
       "</table>\n",
       "</div>"
      ],
      "text/plain": [
       "   RowNumber  CustomerId   Surname  CreditScore Geography  Gender  Age  \\\n",
       "0          1    15634602  Hargrave          619    France  Female   42   \n",
       "1          2    15647311      Hill          608     Spain  Female   41   \n",
       "2          3    15619304      Onio          502    France  Female   42   \n",
       "3          4    15701354      Boni          699    France  Female   39   \n",
       "4          5    15737888  Mitchell          850     Spain  Female   43   \n",
       "\n",
       "   Tenure    Balance  NumOfProducts  HasCrCard  IsActiveMember  \\\n",
       "0       2       0.00              1          1               1   \n",
       "1       1   83807.86              1          0               1   \n",
       "2       8  159660.80              3          1               0   \n",
       "3       1       0.00              2          0               0   \n",
       "4       2  125510.82              1          1               1   \n",
       "\n",
       "   EstimatedSalary  Exited  \n",
       "0        101348.88       1  \n",
       "1        112542.58       0  \n",
       "2        113931.57       1  \n",
       "3         93826.63       0  \n",
       "4         79084.10       0  "
      ]
     },
     "execution_count": 4,
     "metadata": {},
     "output_type": "execute_result"
    }
   ],
   "source": [
    "# view the head of the file\n",
    "dataset.head()"
   ]
  },
  {
   "cell_type": "code",
   "execution_count": 5,
   "metadata": {},
   "outputs": [],
   "source": [
    "# all the independent variables stored in columns 3 to 12 \n",
    "# are stored in X \n",
    "X = dataset.iloc[:, 3:13].values"
   ]
  },
  {
   "cell_type": "code",
   "execution_count": 6,
   "metadata": {},
   "outputs": [],
   "source": [
    "# column index 13 : the dependent variables\n",
    "y = dataset.iloc[:, 13].values "
   ]
  },
  {
   "cell_type": "code",
   "execution_count": 7,
   "metadata": {},
   "outputs": [
    {
     "data": {
      "text/plain": [
       "array([[619, 'France', 'Female', ..., 1, 1, 101348.88],\n",
       "       [608, 'Spain', 'Female', ..., 0, 1, 112542.58],\n",
       "       [502, 'France', 'Female', ..., 1, 0, 113931.57],\n",
       "       ..., \n",
       "       [709, 'France', 'Female', ..., 0, 1, 42085.58],\n",
       "       [772, 'Germany', 'Male', ..., 1, 0, 92888.52],\n",
       "       [792, 'France', 'Female', ..., 1, 0, 38190.78]], dtype=object)"
      ]
     },
     "execution_count": 7,
     "metadata": {},
     "output_type": "execute_result"
    }
   ],
   "source": [
    "X"
   ]
  },
  {
   "cell_type": "code",
   "execution_count": 8,
   "metadata": {},
   "outputs": [
    {
     "data": {
      "text/plain": [
       "array([1, 0, 1, ..., 1, 1, 0])"
      ]
     },
     "execution_count": 8,
     "metadata": {},
     "output_type": "execute_result"
    }
   ],
   "source": [
    "y"
   ]
  },
  {
   "cell_type": "code",
   "execution_count": 9,
   "metadata": {},
   "outputs": [],
   "source": [
    "# Encoding categorical data\n",
    "from sklearn.preprocessing import LabelEncoder, OneHotEncoder"
   ]
  },
  {
   "cell_type": "code",
   "execution_count": 10,
   "metadata": {},
   "outputs": [],
   "source": [
    "# geography column: enumerate countries\n",
    "labelencoder_X_1 = LabelEncoder()\n",
    "X[:, 1] = labelencoder_X_1.fit_transform(X[:, 1])"
   ]
  },
  {
   "cell_type": "code",
   "execution_count": 11,
   "metadata": {},
   "outputs": [
    {
     "data": {
      "text/plain": [
       "array([[619, 0, 'Female', ..., 1, 1, 101348.88],\n",
       "       [608, 2, 'Female', ..., 0, 1, 112542.58],\n",
       "       [502, 0, 'Female', ..., 1, 0, 113931.57],\n",
       "       ..., \n",
       "       [709, 0, 'Female', ..., 0, 1, 42085.58],\n",
       "       [772, 1, 'Male', ..., 1, 0, 92888.52],\n",
       "       [792, 0, 'Female', ..., 1, 0, 38190.78]], dtype=object)"
      ]
     },
     "execution_count": 11,
     "metadata": {},
     "output_type": "execute_result"
    }
   ],
   "source": [
    "X"
   ]
  },
  {
   "cell_type": "code",
   "execution_count": 12,
   "metadata": {},
   "outputs": [],
   "source": [
    "# gender column: enumerate female/male\n",
    "labelencoder_X_2 = LabelEncoder()\n",
    "X[:, 2] = labelencoder_X_2.fit_transform(X[:, 2])"
   ]
  },
  {
   "cell_type": "code",
   "execution_count": 13,
   "metadata": {},
   "outputs": [
    {
     "data": {
      "text/plain": [
       "array([[619, 0, 0, ..., 1, 1, 101348.88],\n",
       "       [608, 2, 0, ..., 0, 1, 112542.58],\n",
       "       [502, 0, 0, ..., 1, 0, 113931.57],\n",
       "       ..., \n",
       "       [709, 0, 0, ..., 0, 1, 42085.58],\n",
       "       [772, 1, 1, ..., 1, 0, 92888.52],\n",
       "       [792, 0, 0, ..., 1, 0, 38190.78]], dtype=object)"
      ]
     },
     "execution_count": 13,
     "metadata": {},
     "output_type": "execute_result"
    }
   ],
   "source": [
    "X"
   ]
  },
  {
   "cell_type": "code",
   "execution_count": 14,
   "metadata": {},
   "outputs": [],
   "source": [
    "# encode enumerations to switch tables to prevent conflicts\n",
    "onehotencoder = OneHotEncoder(categorical_features = [1])\n",
    "X = onehotencoder.fit_transform(X).toarray()"
   ]
  },
  {
   "cell_type": "code",
   "execution_count": 15,
   "metadata": {},
   "outputs": [
    {
     "data": {
      "text/plain": [
       "array([[  1.00000000e+00,   0.00000000e+00,   0.00000000e+00, ...,\n",
       "          1.00000000e+00,   1.00000000e+00,   1.01348880e+05],\n",
       "       [  0.00000000e+00,   0.00000000e+00,   1.00000000e+00, ...,\n",
       "          0.00000000e+00,   1.00000000e+00,   1.12542580e+05],\n",
       "       [  1.00000000e+00,   0.00000000e+00,   0.00000000e+00, ...,\n",
       "          1.00000000e+00,   0.00000000e+00,   1.13931570e+05],\n",
       "       ..., \n",
       "       [  1.00000000e+00,   0.00000000e+00,   0.00000000e+00, ...,\n",
       "          0.00000000e+00,   1.00000000e+00,   4.20855800e+04],\n",
       "       [  0.00000000e+00,   1.00000000e+00,   0.00000000e+00, ...,\n",
       "          1.00000000e+00,   0.00000000e+00,   9.28885200e+04],\n",
       "       [  1.00000000e+00,   0.00000000e+00,   0.00000000e+00, ...,\n",
       "          1.00000000e+00,   0.00000000e+00,   3.81907800e+04]])"
      ]
     },
     "execution_count": 15,
     "metadata": {},
     "output_type": "execute_result"
    }
   ],
   "source": [
    "X"
   ]
  },
  {
   "cell_type": "code",
   "execution_count": 16,
   "metadata": {},
   "outputs": [],
   "source": [
    "# remove the first column to avoid the dummy variable trap\n",
    "X = X[:, 1:] "
   ]
  },
  {
   "cell_type": "code",
   "execution_count": 17,
   "metadata": {},
   "outputs": [
    {
     "data": {
      "text/plain": [
       "array([[  0.00000000e+00,   0.00000000e+00,   6.19000000e+02, ...,\n",
       "          1.00000000e+00,   1.00000000e+00,   1.01348880e+05],\n",
       "       [  0.00000000e+00,   1.00000000e+00,   6.08000000e+02, ...,\n",
       "          0.00000000e+00,   1.00000000e+00,   1.12542580e+05],\n",
       "       [  0.00000000e+00,   0.00000000e+00,   5.02000000e+02, ...,\n",
       "          1.00000000e+00,   0.00000000e+00,   1.13931570e+05],\n",
       "       ..., \n",
       "       [  0.00000000e+00,   0.00000000e+00,   7.09000000e+02, ...,\n",
       "          0.00000000e+00,   1.00000000e+00,   4.20855800e+04],\n",
       "       [  1.00000000e+00,   0.00000000e+00,   7.72000000e+02, ...,\n",
       "          1.00000000e+00,   0.00000000e+00,   9.28885200e+04],\n",
       "       [  0.00000000e+00,   0.00000000e+00,   7.92000000e+02, ...,\n",
       "          1.00000000e+00,   0.00000000e+00,   3.81907800e+04]])"
      ]
     },
     "execution_count": 17,
     "metadata": {},
     "output_type": "execute_result"
    }
   ],
   "source": [
    "X"
   ]
  },
  {
   "cell_type": "code",
   "execution_count": 18,
   "metadata": {},
   "outputs": [],
   "source": [
    "# Splitting the dataset into the Training set and Test set\n",
    "from sklearn.model_selection import train_test_split"
   ]
  },
  {
   "cell_type": "code",
   "execution_count": 19,
   "metadata": {},
   "outputs": [],
   "source": [
    "X_train, X_test, y_train, y_test = train_test_split(X, y, test_size = 0.2, random_state = 0)"
   ]
  },
  {
   "cell_type": "code",
   "execution_count": 20,
   "metadata": {},
   "outputs": [
    {
     "data": {
      "text/plain": [
       "array([[  0.00000000e+00,   1.00000000e+00,   6.67000000e+02, ...,\n",
       "          1.00000000e+00,   0.00000000e+00,   1.63830640e+05],\n",
       "       [  1.00000000e+00,   0.00000000e+00,   4.27000000e+02, ...,\n",
       "          1.00000000e+00,   1.00000000e+00,   5.70980000e+04],\n",
       "       [  0.00000000e+00,   0.00000000e+00,   5.35000000e+02, ...,\n",
       "          1.00000000e+00,   0.00000000e+00,   1.85630760e+05],\n",
       "       ..., \n",
       "       [  0.00000000e+00,   0.00000000e+00,   7.38000000e+02, ...,\n",
       "          1.00000000e+00,   0.00000000e+00,   1.81429870e+05],\n",
       "       [  0.00000000e+00,   1.00000000e+00,   5.90000000e+02, ...,\n",
       "          1.00000000e+00,   1.00000000e+00,   1.48750160e+05],\n",
       "       [  1.00000000e+00,   0.00000000e+00,   6.23000000e+02, ...,\n",
       "          1.00000000e+00,   0.00000000e+00,   1.18855260e+05]])"
      ]
     },
     "execution_count": 20,
     "metadata": {},
     "output_type": "execute_result"
    }
   ],
   "source": [
    "X_train"
   ]
  },
  {
   "cell_type": "code",
   "execution_count": 21,
   "metadata": {},
   "outputs": [],
   "source": [
    "# Feature Scaling\n",
    "from sklearn. preprocessing import StandardScaler"
   ]
  },
  {
   "cell_type": "code",
   "execution_count": 22,
   "metadata": {},
   "outputs": [],
   "source": [
    "sc = StandardScaler()"
   ]
  },
  {
   "cell_type": "code",
   "execution_count": 23,
   "metadata": {},
   "outputs": [],
   "source": [
    "X_train = sc.fit_transform(X_train)"
   ]
  },
  {
   "cell_type": "code",
   "execution_count": 24,
   "metadata": {},
   "outputs": [],
   "source": [
    "X_test = sc.transform(X_test)"
   ]
  },
  {
   "cell_type": "code",
   "execution_count": 25,
   "metadata": {},
   "outputs": [
    {
     "data": {
      "text/plain": [
       "array([[-0.5698444 ,  1.74309049,  0.16958176, ...,  0.64259497,\n",
       "        -1.03227043,  1.10643166],\n",
       "       [ 1.75486502, -0.57369368, -2.30455945, ...,  0.64259497,\n",
       "         0.9687384 , -0.74866447],\n",
       "       [-0.5698444 , -0.57369368, -1.19119591, ...,  0.64259497,\n",
       "        -1.03227043,  1.48533467],\n",
       "       ..., \n",
       "       [-0.5698444 , -0.57369368,  0.9015152 , ...,  0.64259497,\n",
       "        -1.03227043,  1.41231994],\n",
       "       [-0.5698444 ,  1.74309049, -0.62420521, ...,  0.64259497,\n",
       "         0.9687384 ,  0.84432121],\n",
       "       [ 1.75486502, -0.57369368, -0.28401079, ...,  0.64259497,\n",
       "        -1.03227043,  0.32472465]])"
      ]
     },
     "execution_count": 25,
     "metadata": {},
     "output_type": "execute_result"
    }
   ],
   "source": [
    "X_train"
   ]
  },
  {
   "cell_type": "code",
   "execution_count": 26,
   "metadata": {},
   "outputs": [
    {
     "name": "stderr",
     "output_type": "stream",
     "text": [
      "Using TensorFlow backend.\n"
     ]
    }
   ],
   "source": [
    "# Importing the Keras libraries and packages\n",
    "import keras"
   ]
  },
  {
   "cell_type": "code",
   "execution_count": 27,
   "metadata": {},
   "outputs": [],
   "source": [
    "from keras.models import Sequential"
   ]
  },
  {
   "cell_type": "code",
   "execution_count": 28,
   "metadata": {},
   "outputs": [],
   "source": [
    "from keras.layers import Dense"
   ]
  },
  {
   "cell_type": "code",
   "execution_count": 29,
   "metadata": {},
   "outputs": [],
   "source": [
    "# Initialising the ANN\n",
    "#classifier = Sequential()"
   ]
  },
  {
   "cell_type": "code",
   "execution_count": 30,
   "metadata": {},
   "outputs": [],
   "source": [
    "# Adding the input layer and the first hidden layer\n",
    "#classifier.add(Dense(units = 6, kernel_initializer = 'uniform', activation = 'relu', input_dim = 11))"
   ]
  },
  {
   "cell_type": "code",
   "execution_count": 31,
   "metadata": {},
   "outputs": [],
   "source": [
    "# Adding the second hidden layer\n",
    "#classifier.add(Dense(units = 6, kernel_initializer = 'uniform', activation = 'relu'))"
   ]
  },
  {
   "cell_type": "code",
   "execution_count": 32,
   "metadata": {},
   "outputs": [],
   "source": [
    "# Adding the output layer\n",
    "#classifier.add(Dense(units = 1, kernel_initializer = 'uniform', activation = 'sigmoid'))"
   ]
  },
  {
   "cell_type": "code",
   "execution_count": 33,
   "metadata": {},
   "outputs": [],
   "source": [
    "#compile the ANN\n",
    "#classifier.compile(optimizer = 'adam', loss = 'binary_crossentropy', metrics = ['accuracy'])"
   ]
  },
  {
   "cell_type": "code",
   "execution_count": 34,
   "metadata": {},
   "outputs": [],
   "source": [
    "# Fitting the ANN to the Training set\n",
    "#classifier.fit(X_train, y_train, batch_size = 10, epochs = 100)"
   ]
  },
  {
   "cell_type": "code",
   "execution_count": 35,
   "metadata": {},
   "outputs": [],
   "source": [
    "# Predicting the Test set results\n",
    "#y_pred = classifier.predict(X_test)"
   ]
  },
  {
   "cell_type": "code",
   "execution_count": 36,
   "metadata": {},
   "outputs": [],
   "source": [
    "#y_pred"
   ]
  },
  {
   "cell_type": "code",
   "execution_count": 37,
   "metadata": {},
   "outputs": [],
   "source": [
    "# threshold the probabilities into True > 0.5 or False\n",
    "#y_pred = (y_pred > 0.5)"
   ]
  },
  {
   "cell_type": "code",
   "execution_count": 38,
   "metadata": {},
   "outputs": [],
   "source": [
    "#y_pred"
   ]
  },
  {
   "cell_type": "code",
   "execution_count": 39,
   "metadata": {},
   "outputs": [],
   "source": [
    "# computing the Confusion Matrix\n",
    "#from sklearn.metrics import confusion_matrix"
   ]
  },
  {
   "cell_type": "code",
   "execution_count": 40,
   "metadata": {},
   "outputs": [],
   "source": [
    "#cm = confusion_matrix(y_test, y_pred)"
   ]
  },
  {
   "cell_type": "code",
   "execution_count": 41,
   "metadata": {},
   "outputs": [],
   "source": [
    "#cm"
   ]
  },
  {
   "cell_type": "code",
   "execution_count": 42,
   "metadata": {},
   "outputs": [],
   "source": [
    "#(1525+197)/2000"
   ]
  },
  {
   "cell_type": "code",
   "execution_count": 43,
   "metadata": {},
   "outputs": [],
   "source": [
    "# Predicting a single new observation\n",
    "# request a prediction from the ANN using the new data formatted as needed\n",
    "#new_prediction = classifier.predict(sc.transform(np.array([[0.0, 0, 600, 1, 40, 3,\n",
    "                                                           # 60000, 2, 1, 1, 50000]]))) "
   ]
  },
  {
   "cell_type": "code",
   "execution_count": 44,
   "metadata": {},
   "outputs": [],
   "source": [
    "#new_prediction"
   ]
  },
  {
   "cell_type": "code",
   "execution_count": 45,
   "metadata": {},
   "outputs": [],
   "source": [
    "#new_prediction = (new_prediction > 0.5)"
   ]
  },
  {
   "cell_type": "code",
   "execution_count": 46,
   "metadata": {},
   "outputs": [],
   "source": [
    "#new_prediction"
   ]
  },
  {
   "cell_type": "code",
   "execution_count": 47,
   "metadata": {},
   "outputs": [],
   "source": [
    "# Evaluating the ANN\n",
    "# load the libraries\n",
    "#from keras.wrappers.scikit_learn import KerasClassifier\n",
    "#from sklearn.model_selection import cross_val_score\n",
    "#from keras.models import Sequential\n",
    "#from keras.layers import Dense"
   ]
  },
  {
   "cell_type": "code",
   "execution_count": 48,
   "metadata": {},
   "outputs": [],
   "source": [
    "#define our classifier\n",
    "#def build_classifier():\n",
    " #   classifier = Sequential()\n",
    "  #  classifier.add(Dense(units = 6, kernel_initializer = 'uniform', activation = 'relu', input_dim = 11))\n",
    "   # classifier.add(Dense(units = 6, kernel_initializer = 'uniform', activation = 'relu'))\n",
    "    #classifier.add(Dense(units = 1, kernel_initializer = 'uniform', activation = 'sigmoid'))\n",
    "    #classifier.compile(optimizer = 'adam', loss = 'binary_crossentropy', metrics = ['accuracy'])\n",
    "    #return classifier"
   ]
  },
  {
   "cell_type": "code",
   "execution_count": 49,
   "metadata": {},
   "outputs": [],
   "source": [
    "# Run k-fold cross validation\n",
    "# configure the classifier as needed; set the building function, the batch size and the number of epochs, as before\n",
    "#classifier = KerasClassifier(build_fn = build_classifier, batch_size = 10, epochs = 90)"
   ]
  },
  {
   "cell_type": "code",
   "execution_count": 50,
   "metadata": {},
   "outputs": [],
   "source": [
    "# Run the k-fold cross validation; n_jobs = number of cpus, when set to -1 it means use all\n",
    "#accuracies = cross_val_score(estimator = classifier, X = X_train, y = y_train, cv = 10, n_jobs = 1)"
   ]
  },
  {
   "cell_type": "code",
   "execution_count": 51,
   "metadata": {},
   "outputs": [],
   "source": [
    "#mean = accuracies.mean()"
   ]
  },
  {
   "cell_type": "code",
   "execution_count": 52,
   "metadata": {},
   "outputs": [],
   "source": [
    "#variance = accuracies.std()"
   ]
  },
  {
   "cell_type": "code",
   "execution_count": 53,
   "metadata": {},
   "outputs": [],
   "source": [
    "# add this library\n",
    "from keras.layers import Dropout"
   ]
  },
  {
   "cell_type": "code",
   "execution_count": 54,
   "metadata": {},
   "outputs": [],
   "source": [
    "# re-initialising the ANN\n",
    "classifier = Sequential()"
   ]
  },
  {
   "cell_type": "code",
   "execution_count": 55,
   "metadata": {},
   "outputs": [
    {
     "name": "stderr",
     "output_type": "stream",
     "text": [
      "/opt/conda/lib/python3.6/site-packages/ipykernel_launcher.py:4: UserWarning: Update your `Dropout` call to the Keras 2 API: `Dropout(rate=0.1)`\n",
      "  after removing the cwd from sys.path.\n"
     ]
    }
   ],
   "source": [
    "# Adding the input layer and the first hidden layer\n",
    "classifier.add(Dense(units = 6, kernel_initializer = \n",
    "'uniform', activation = 'relu', input_dim = 11)) \n",
    "classifier.add(Dropout(p = 0.1))"
   ]
  },
  {
   "cell_type": "code",
   "execution_count": 56,
   "metadata": {},
   "outputs": [
    {
     "name": "stderr",
     "output_type": "stream",
     "text": [
      "/opt/conda/lib/python3.6/site-packages/ipykernel_launcher.py:4: UserWarning: Update your `Dropout` call to the Keras 2 API: `Dropout(rate=0.1)`\n",
      "  after removing the cwd from sys.path.\n"
     ]
    }
   ],
   "source": [
    "# Adding the second hidden layer\n",
    "classifier.add(Dense(units = 6, kernel_initializer = \n",
    "'uniform', activation = 'relu'))\n",
    "classifier.add(Dropout(p = 0.1))"
   ]
  },
  {
   "cell_type": "code",
   "execution_count": 57,
   "metadata": {},
   "outputs": [],
   "source": [
    "# Adding the output layer\n",
    "classifier.add(Dense(units = 1, kernel_initializer = \n",
    "'uniform', activation = 'sigmoid'))"
   ]
  },
  {
   "cell_type": "code",
   "execution_count": 58,
   "metadata": {},
   "outputs": [],
   "source": [
    "# Compiling the ANN\n",
    "classifier.compile(optimizer = 'adam', loss = \n",
    "'binary_crossentropy', metrics = ['accuracy'])"
   ]
  },
  {
   "cell_type": "code",
   "execution_count": 59,
   "metadata": {},
   "outputs": [
    {
     "name": "stdout",
     "output_type": "stream",
     "text": [
      "Epoch 1/100\n",
      "8000/8000 [==============================] - 1s 120us/step - loss: 0.4937 - acc: 0.7956\n",
      "Epoch 2/100\n",
      "8000/8000 [==============================] - 1s 93us/step - loss: 0.4377 - acc: 0.7960\n",
      "Epoch 3/100\n",
      "8000/8000 [==============================] - 1s 87us/step - loss: 0.4343 - acc: 0.7960\n",
      "Epoch 4/100\n",
      "8000/8000 [==============================] - 1s 85us/step - loss: 0.4323 - acc: 0.7960\n",
      "Epoch 5/100\n",
      "8000/8000 [==============================] - 1s 85us/step - loss: 0.4290 - acc: 0.7960\n",
      "Epoch 6/100\n",
      "8000/8000 [==============================] - 1s 85us/step - loss: 0.4285 - acc: 0.7991\n",
      "Epoch 7/100\n",
      "8000/8000 [==============================] - 1s 85us/step - loss: 0.4290 - acc: 0.8240\n",
      "Epoch 8/100\n",
      "8000/8000 [==============================] - 1s 86us/step - loss: 0.4287 - acc: 0.8227\n",
      "Epoch 9/100\n",
      "8000/8000 [==============================] - 1s 85us/step - loss: 0.4286 - acc: 0.8259\n",
      "Epoch 10/100\n",
      "8000/8000 [==============================] - 1s 86us/step - loss: 0.4270 - acc: 0.8266\n",
      "Epoch 11/100\n",
      "8000/8000 [==============================] - 1s 95us/step - loss: 0.4277 - acc: 0.8285\n",
      "Epoch 12/100\n",
      "8000/8000 [==============================] - 1s 105us/step - loss: 0.4269 - acc: 0.8252\n",
      "Epoch 13/100\n",
      "8000/8000 [==============================] - 1s 97us/step - loss: 0.4271 - acc: 0.8271\n",
      "Epoch 14/100\n",
      "8000/8000 [==============================] - 1s 93us/step - loss: 0.4290 - acc: 0.8281\n",
      "Epoch 15/100\n",
      "8000/8000 [==============================] - 1s 95us/step - loss: 0.4269 - acc: 0.8282\n",
      "Epoch 16/100\n",
      "8000/8000 [==============================] - 1s 88us/step - loss: 0.4275 - acc: 0.8284\n",
      "Epoch 17/100\n",
      "8000/8000 [==============================] - 1s 96us/step - loss: 0.4268 - acc: 0.8267\n",
      "Epoch 18/100\n",
      "8000/8000 [==============================] - 1s 88us/step - loss: 0.4268 - acc: 0.8300\n",
      "Epoch 19/100\n",
      "8000/8000 [==============================] - 1s 89us/step - loss: 0.4274 - acc: 0.8291\n",
      "Epoch 20/100\n",
      "8000/8000 [==============================] - 1s 89us/step - loss: 0.4256 - acc: 0.8294\n",
      "Epoch 21/100\n",
      "8000/8000 [==============================] - 1s 92us/step - loss: 0.4245 - acc: 0.8311\n",
      "Epoch 22/100\n",
      "8000/8000 [==============================] - 1s 90us/step - loss: 0.4301 - acc: 0.8290\n",
      "Epoch 23/100\n",
      "8000/8000 [==============================] - 1s 89us/step - loss: 0.4263 - acc: 0.8285\n",
      "Epoch 24/100\n",
      "8000/8000 [==============================] - 1s 92us/step - loss: 0.4319 - acc: 0.8301\n",
      "Epoch 25/100\n",
      "8000/8000 [==============================] - 1s 99us/step - loss: 0.4257 - acc: 0.8307\n",
      "Epoch 26/100\n",
      "8000/8000 [==============================] - 1s 92us/step - loss: 0.4271 - acc: 0.8310\n",
      "Epoch 27/100\n",
      "8000/8000 [==============================] - 1s 92us/step - loss: 0.4258 - acc: 0.8297\n",
      "Epoch 28/100\n",
      "8000/8000 [==============================] - 1s 90us/step - loss: 0.4243 - acc: 0.8292\n",
      "Epoch 29/100\n",
      "8000/8000 [==============================] - 1s 90us/step - loss: 0.4254 - acc: 0.8309\n",
      "Epoch 30/100\n",
      "8000/8000 [==============================] - 1s 88us/step - loss: 0.4252 - acc: 0.8299\n",
      "Epoch 31/100\n",
      "8000/8000 [==============================] - 1s 94us/step - loss: 0.4257 - acc: 0.8315\n",
      "Epoch 32/100\n",
      "8000/8000 [==============================] - 1s 89us/step - loss: 0.4228 - acc: 0.8294\n",
      "Epoch 33/100\n",
      "8000/8000 [==============================] - 1s 90us/step - loss: 0.4227 - acc: 0.8320\n",
      "Epoch 34/100\n",
      "8000/8000 [==============================] - 1s 98us/step - loss: 0.4235 - acc: 0.8299\n",
      "Epoch 35/100\n",
      "8000/8000 [==============================] - 1s 93us/step - loss: 0.4243 - acc: 0.8305\n",
      "Epoch 36/100\n",
      "8000/8000 [==============================] - 1s 104us/step - loss: 0.4236 - acc: 0.8310\n",
      "Epoch 37/100\n",
      "8000/8000 [==============================] - 1s 100us/step - loss: 0.4271 - acc: 0.8302\n",
      "Epoch 38/100\n",
      "8000/8000 [==============================] - 1s 96us/step - loss: 0.4248 - acc: 0.8304\n",
      "Epoch 39/100\n",
      "8000/8000 [==============================] - 1s 94us/step - loss: 0.4224 - acc: 0.8304\n",
      "Epoch 40/100\n",
      "8000/8000 [==============================] - 1s 89us/step - loss: 0.4210 - acc: 0.8325\n",
      "Epoch 41/100\n",
      "8000/8000 [==============================] - 1s 90us/step - loss: 0.4265 - acc: 0.8309\n",
      "Epoch 42/100\n",
      "8000/8000 [==============================] - 1s 88us/step - loss: 0.4248 - acc: 0.8304\n",
      "Epoch 43/100\n",
      "8000/8000 [==============================] - 1s 90us/step - loss: 0.4275 - acc: 0.8300\n",
      "Epoch 44/100\n",
      "8000/8000 [==============================] - 1s 99us/step - loss: 0.4261 - acc: 0.8300\n",
      "Epoch 45/100\n",
      "8000/8000 [==============================] - 1s 107us/step - loss: 0.4250 - acc: 0.8311\n",
      "Epoch 46/100\n",
      "8000/8000 [==============================] - 1s 111us/step - loss: 0.4262 - acc: 0.8330\n",
      "Epoch 47/100\n",
      "8000/8000 [==============================] - 1s 97us/step - loss: 0.4251 - acc: 0.8287\n",
      "Epoch 48/100\n",
      "8000/8000 [==============================] - 1s 88us/step - loss: 0.4222 - acc: 0.8281\n",
      "Epoch 49/100\n",
      "8000/8000 [==============================] - 1s 89us/step - loss: 0.4253 - acc: 0.8320\n",
      "Epoch 50/100\n",
      "8000/8000 [==============================] - 1s 92us/step - loss: 0.4239 - acc: 0.8317\n",
      "Epoch 51/100\n",
      "8000/8000 [==============================] - 1s 91us/step - loss: 0.4228 - acc: 0.8310\n",
      "Epoch 52/100\n",
      "8000/8000 [==============================] - 1s 93us/step - loss: 0.4284 - acc: 0.8309\n",
      "Epoch 53/100\n",
      "8000/8000 [==============================] - 1s 99us/step - loss: 0.4236 - acc: 0.8310\n",
      "Epoch 54/100\n",
      "8000/8000 [==============================] - 1s 98us/step - loss: 0.4211 - acc: 0.8327\n",
      "Epoch 55/100\n",
      "8000/8000 [==============================] - 1s 94us/step - loss: 0.4232 - acc: 0.8314\n",
      "Epoch 56/100\n",
      "8000/8000 [==============================] - 1s 95us/step - loss: 0.4266 - acc: 0.8295\n",
      "Epoch 57/100\n",
      "8000/8000 [==============================] - 1s 93us/step - loss: 0.4268 - acc: 0.8315\n",
      "Epoch 58/100\n",
      "8000/8000 [==============================] - 1s 93us/step - loss: 0.4225 - acc: 0.8290\n",
      "Epoch 59/100\n",
      "8000/8000 [==============================] - 1s 97us/step - loss: 0.4241 - acc: 0.8316\n",
      "Epoch 60/100\n",
      "8000/8000 [==============================] - 1s 97us/step - loss: 0.4250 - acc: 0.8309\n",
      "Epoch 61/100\n",
      "8000/8000 [==============================] - 1s 99us/step - loss: 0.4228 - acc: 0.8295\n",
      "Epoch 62/100\n",
      "8000/8000 [==============================] - 1s 93us/step - loss: 0.4224 - acc: 0.8301\n",
      "Epoch 63/100\n",
      "8000/8000 [==============================] - 1s 95us/step - loss: 0.4256 - acc: 0.8284\n",
      "Epoch 64/100\n",
      "8000/8000 [==============================] - 1s 93us/step - loss: 0.4237 - acc: 0.8290\n",
      "Epoch 65/100\n",
      "8000/8000 [==============================] - 1s 95us/step - loss: 0.4226 - acc: 0.8306\n",
      "Epoch 66/100\n",
      "8000/8000 [==============================] - 1s 98us/step - loss: 0.4241 - acc: 0.8286\n",
      "Epoch 67/100\n",
      "8000/8000 [==============================] - 1s 94us/step - loss: 0.4241 - acc: 0.8296\n",
      "Epoch 68/100\n",
      "8000/8000 [==============================] - 1s 92us/step - loss: 0.4232 - acc: 0.8309\n",
      "Epoch 69/100\n",
      "8000/8000 [==============================] - 1s 93us/step - loss: 0.4243 - acc: 0.8302\n",
      "Epoch 70/100\n",
      "8000/8000 [==============================] - 1s 97us/step - loss: 0.4266 - acc: 0.8299\n",
      "Epoch 71/100\n",
      "8000/8000 [==============================] - 1s 93us/step - loss: 0.4237 - acc: 0.8326\n",
      "Epoch 72/100\n",
      "8000/8000 [==============================] - 1s 93us/step - loss: 0.4250 - acc: 0.8291\n",
      "Epoch 73/100\n",
      "8000/8000 [==============================] - 1s 93us/step - loss: 0.4233 - acc: 0.8280\n",
      "Epoch 74/100\n",
      "8000/8000 [==============================] - 1s 93us/step - loss: 0.4225 - acc: 0.8297\n",
      "Epoch 75/100\n",
      "8000/8000 [==============================] - 1s 97us/step - loss: 0.4253 - acc: 0.8310\n",
      "Epoch 76/100\n",
      "8000/8000 [==============================] - 1s 94us/step - loss: 0.4235 - acc: 0.8285\n",
      "Epoch 77/100\n",
      "8000/8000 [==============================] - 1s 95us/step - loss: 0.4244 - acc: 0.8291\n",
      "Epoch 78/100\n",
      "8000/8000 [==============================] - 1s 92us/step - loss: 0.4205 - acc: 0.8297\n",
      "Epoch 79/100\n",
      "8000/8000 [==============================] - 1s 91us/step - loss: 0.4254 - acc: 0.8329\n",
      "Epoch 80/100\n",
      "8000/8000 [==============================] - 1s 93us/step - loss: 0.4227 - acc: 0.8326\n",
      "Epoch 81/100\n",
      "8000/8000 [==============================] - 1s 99us/step - loss: 0.4252 - acc: 0.8291\n",
      "Epoch 82/100\n",
      "8000/8000 [==============================] - 1s 108us/step - loss: 0.4229 - acc: 0.8332\n"
     ]
    },
    {
     "name": "stdout",
     "output_type": "stream",
     "text": [
      "Epoch 83/100\n",
      "8000/8000 [==============================] - 1s 142us/step - loss: 0.4236 - acc: 0.8336\n",
      "Epoch 84/100\n",
      "8000/8000 [==============================] - 1s 137us/step - loss: 0.4258 - acc: 0.8291\n",
      "Epoch 85/100\n",
      "8000/8000 [==============================] - 1s 127us/step - loss: 0.4214 - acc: 0.8297\n",
      "Epoch 86/100\n",
      "8000/8000 [==============================] - 1s 95us/step - loss: 0.4226 - acc: 0.8334\n",
      "Epoch 87/100\n",
      "8000/8000 [==============================] - 1s 98us/step - loss: 0.4248 - acc: 0.8311\n",
      "Epoch 88/100\n",
      "8000/8000 [==============================] - 1s 90us/step - loss: 0.4209 - acc: 0.8334\n",
      "Epoch 89/100\n",
      "8000/8000 [==============================] - 1s 90us/step - loss: 0.4251 - acc: 0.8311\n",
      "Epoch 90/100\n",
      "8000/8000 [==============================] - 1s 89us/step - loss: 0.4239 - acc: 0.8312\n",
      "Epoch 91/100\n",
      "8000/8000 [==============================] - 1s 88us/step - loss: 0.4245 - acc: 0.8310\n",
      "Epoch 92/100\n",
      "8000/8000 [==============================] - 1s 92us/step - loss: 0.4229 - acc: 0.8326\n",
      "Epoch 93/100\n",
      "8000/8000 [==============================] - 1s 115us/step - loss: 0.4222 - acc: 0.8320\n",
      "Epoch 94/100\n",
      "8000/8000 [==============================] - 1s 92us/step - loss: 0.4243 - acc: 0.8317\n",
      "Epoch 95/100\n",
      "8000/8000 [==============================] - 1s 90us/step - loss: 0.4241 - acc: 0.8299\n",
      "Epoch 96/100\n",
      "8000/8000 [==============================] - 1s 94us/step - loss: 0.4235 - acc: 0.8320\n",
      "Epoch 97/100\n",
      "8000/8000 [==============================] - 1s 98us/step - loss: 0.4249 - acc: 0.8317\n",
      "Epoch 98/100\n",
      "8000/8000 [==============================] - 1s 103us/step - loss: 0.4238 - acc: 0.8324\n",
      "Epoch 99/100\n",
      "8000/8000 [==============================] - 1s 106us/step - loss: 0.4173 - acc: 0.8340\n",
      "Epoch 100/100\n",
      "8000/8000 [==============================] - 1s 92us/step - loss: 0.4232 - acc: 0.8325\n"
     ]
    },
    {
     "data": {
      "text/plain": [
       "<keras.callbacks.History at 0x7fdb0d27eba8>"
      ]
     },
     "execution_count": 59,
     "metadata": {},
     "output_type": "execute_result"
    }
   ],
   "source": [
    "# Fitting the ANN to the Training set\n",
    "classifier.fit(X_train, y_train, batch_size = 10, epochs = \n",
    "100)"
   ]
  },
  {
   "cell_type": "code",
   "execution_count": 60,
   "metadata": {},
   "outputs": [],
   "source": [
    "# Predicting the Test set results\n",
    "y_pred = classifier.predict(X_test)\n",
    "# threshold the probabilities into True > 0.5 or False\n",
    "y_pred = (y_pred > 0.5) "
   ]
  },
  {
   "cell_type": "code",
   "execution_count": 61,
   "metadata": {},
   "outputs": [
    {
     "data": {
      "text/plain": [
       "array([[False],\n",
       "       [False],\n",
       "       [False],\n",
       "       ..., \n",
       "       [False],\n",
       "       [False],\n",
       "       [False]], dtype=bool)"
      ]
     },
     "execution_count": 61,
     "metadata": {},
     "output_type": "execute_result"
    }
   ],
   "source": [
    "y_pred"
   ]
  },
  {
   "cell_type": "code",
   "execution_count": 62,
   "metadata": {},
   "outputs": [],
   "source": [
    "# computing the Confusion Matrix\n",
    "from sklearn.metrics import confusion_matrix\n",
    "cm = confusion_matrix(y_test, y_pred)"
   ]
  },
  {
   "cell_type": "code",
   "execution_count": 63,
   "metadata": {},
   "outputs": [
    {
     "data": {
      "text/plain": [
       "array([[1561,   34],\n",
       "       [ 285,  120]])"
      ]
     },
     "execution_count": 63,
     "metadata": {},
     "output_type": "execute_result"
    }
   ],
   "source": [
    "cm"
   ]
  },
  {
   "cell_type": "code",
   "execution_count": 64,
   "metadata": {},
   "outputs": [
    {
     "data": {
      "text/plain": [
       "0.8405"
      ]
     },
     "execution_count": 64,
     "metadata": {},
     "output_type": "execute_result"
    }
   ],
   "source": [
    "(1561+120)/2000"
   ]
  },
  {
   "cell_type": "code",
   "execution_count": 67,
   "metadata": {},
   "outputs": [],
   "source": [
    "# Tuning the ANN\n",
    "# load the libraries; note the Grid Search Cross Validation lib\n",
    "from keras.wrappers.scikit_learn import KerasClassifier\n",
    "from sklearn.model_selection import GridSearchCV\n",
    "from keras.models import Sequential\n",
    "from keras.layers import Dense"
   ]
  },
  {
   "cell_type": "code",
   "execution_count": 68,
   "metadata": {},
   "outputs": [],
   "source": [
    "#define our classifier\n",
    "def build_classifier(\n",
    "optimizer\n",
    "):\n",
    "    classifier = Sequential()\n",
    "    classifier.add(Dense(units = 6, kernel_initializer = 'uniform', activation = 'relu', input_dim = 11))\n",
    "    classifier.add(Dense(units = 6, kernel_initializer = 'uniform', activation = 'relu'))\n",
    "    classifier.add(Dense(units = 1, kernel_initializer = 'uniform', activation = 'sigmoid'))\n",
    "    classifier.compile(optimizer = optimizer, loss = 'binary_crossentropy', metrics = ['accuracy'])\n",
    "    return classifier"
   ]
  },
  {
   "cell_type": "code",
   "execution_count": 70,
   "metadata": {},
   "outputs": [],
   "source": [
    "# Tuning the ANN\n",
    "# configure the classifier as needed; set the building function\n",
    "classifier = KerasClassifier(build_fn = build_classifier)"
   ]
  },
  {
   "cell_type": "code",
   "execution_count": 71,
   "metadata": {},
   "outputs": [],
   "source": [
    "# enter different options for the batch size, the number of epochs and the optimizer:\n",
    "parameters = {'batch_size': [25, 32],'epochs': [100, 500],'optimizer': ['adam', 'rmsprop']}"
   ]
  },
  {
   "cell_type": "code",
   "execution_count": 72,
   "metadata": {},
   "outputs": [],
   "source": [
    "# Customize the Grid Search CV\n",
    "grid_search = GridSearchCV(estimator = classifier,param_grid = parameters,scoring = 'accuracy',cv = 10)"
   ]
  },
  {
   "cell_type": "code",
   "execution_count": null,
   "metadata": {},
   "outputs": [],
   "source": [
    "# fit the grid_search model to our training data\n",
    "grid_search = grid_search.fit(X_train, y_train)"
   ]
  }
 ],
 "metadata": {
  "kernelspec": {
   "display_name": "Python 3",
   "language": "python",
   "name": "python3"
  },
  "language_info": {
   "codemirror_mode": {
    "name": "ipython",
    "version": 3
   },
   "file_extension": ".py",
   "mimetype": "text/x-python",
   "name": "python",
   "nbconvert_exporter": "python",
   "pygments_lexer": "ipython3",
   "version": "3.6.3"
  }
 },
 "nbformat": 4,
 "nbformat_minor": 2
}
